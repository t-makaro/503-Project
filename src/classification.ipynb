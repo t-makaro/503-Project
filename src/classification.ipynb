{
 "cells": [
  {
   "cell_type": "code",
   "execution_count": 78,
   "id": "fc949af9-4543-4884-9742-4f972f1d1f75",
   "metadata": {},
   "outputs": [],
   "source": [
    "import numpy as np\n",
    "import pandas as pd\n",
    "from constants import *\n",
    "import matplotlib.pyplot as plt\n",
    "\n",
    "sb_data_file = 'D:/UVic/CSC503Proj/data/merged_data.csv'\n",
    "sb_filtered_data_file = 'D:/UVic/CSC503Proj/data/filtered_data.csv'\n",
    "\n",
    "unwanted_cols__ = ['Unnamed: 0', 'videoID', 'UUID', 'description', 'title', 'userID', 'channelID', 'incorrectVotes']"
   ]
  },
  {
   "cell_type": "code",
   "execution_count": 79,
   "id": "5fa4f4c3-dd05-4bc0-b2fb-8df6e565d787",
   "metadata": {},
   "outputs": [],
   "source": [
    "# Read the file, filter the columns, and save the new file\n",
    "\n",
    "\n",
    "# df = pd.read_csv(sb_data_file, low_memory=False)\n",
    "# filtered_df = df.loc[:, ~df.columns.isin(unwanted_cols__)]\n",
    "# filtered_df.to_csv(sb_filtered_data_file, index=False)\n",
    "\n",
    "# print(f\"Filtered data has been written to {sb_filtered_data_file}\")"
   ]
  },
  {
   "cell_type": "code",
   "execution_count": 80,
   "id": "0adf4c74-8723-4bd3-80d3-47ea02233013",
   "metadata": {},
   "outputs": [
    {
     "data": {
      "text/html": [
       "<div>\n",
       "<style scoped>\n",
       "    .dataframe tbody tr th:only-of-type {\n",
       "        vertical-align: middle;\n",
       "    }\n",
       "\n",
       "    .dataframe tbody tr th {\n",
       "        vertical-align: top;\n",
       "    }\n",
       "\n",
       "    .dataframe thead th {\n",
       "        text-align: right;\n",
       "    }\n",
       "</style>\n",
       "<table border=\"1\" class=\"dataframe\">\n",
       "  <thead>\n",
       "    <tr style=\"text-align: right;\">\n",
       "      <th></th>\n",
       "      <th>startTime</th>\n",
       "      <th>endTime</th>\n",
       "      <th>votes</th>\n",
       "      <th>locked</th>\n",
       "      <th>timeSubmitted</th>\n",
       "      <th>views</th>\n",
       "      <th>category</th>\n",
       "      <th>actionType</th>\n",
       "      <th>videoDuration</th>\n",
       "      <th>hidden</th>\n",
       "      <th>reputation</th>\n",
       "      <th>shadowHidden</th>\n",
       "      <th>published</th>\n",
       "      <th>isVIP</th>\n",
       "    </tr>\n",
       "  </thead>\n",
       "  <tbody>\n",
       "    <tr>\n",
       "      <th>0</th>\n",
       "      <td>714.00000</td>\n",
       "      <td>763.00000</td>\n",
       "      <td>64</td>\n",
       "      <td>False</td>\n",
       "      <td>1.564089e+09</td>\n",
       "      <td>386</td>\n",
       "      <td>sponsor</td>\n",
       "      <td>skip</td>\n",
       "      <td>NaN</td>\n",
       "      <td>0</td>\n",
       "      <td>0.0</td>\n",
       "      <td>False</td>\n",
       "      <td>1.529539e+09</td>\n",
       "      <td>False</td>\n",
       "    </tr>\n",
       "    <tr>\n",
       "      <th>1</th>\n",
       "      <td>446.51013</td>\n",
       "      <td>513.39233</td>\n",
       "      <td>225</td>\n",
       "      <td>False</td>\n",
       "      <td>1.564089e+09</td>\n",
       "      <td>3222</td>\n",
       "      <td>sponsor</td>\n",
       "      <td>skip</td>\n",
       "      <td>NaN</td>\n",
       "      <td>1</td>\n",
       "      <td>0.0</td>\n",
       "      <td>False</td>\n",
       "      <td>1.562458e+09</td>\n",
       "      <td>False</td>\n",
       "    </tr>\n",
       "    <tr>\n",
       "      <th>2</th>\n",
       "      <td>488.52150</td>\n",
       "      <td>542.11035</td>\n",
       "      <td>-2</td>\n",
       "      <td>False</td>\n",
       "      <td>1.564089e+09</td>\n",
       "      <td>25661</td>\n",
       "      <td>sponsor</td>\n",
       "      <td>skip</td>\n",
       "      <td>552.0</td>\n",
       "      <td>0</td>\n",
       "      <td>0.0</td>\n",
       "      <td>False</td>\n",
       "      <td>1.534032e+09</td>\n",
       "      <td>False</td>\n",
       "    </tr>\n",
       "    <tr>\n",
       "      <th>3</th>\n",
       "      <td>497.14310</td>\n",
       "      <td>569.15330</td>\n",
       "      <td>-2</td>\n",
       "      <td>False</td>\n",
       "      <td>1.564089e+09</td>\n",
       "      <td>24217</td>\n",
       "      <td>sponsor</td>\n",
       "      <td>skip</td>\n",
       "      <td>NaN</td>\n",
       "      <td>0</td>\n",
       "      <td>0.0</td>\n",
       "      <td>False</td>\n",
       "      <td>1.517443e+09</td>\n",
       "      <td>False</td>\n",
       "    </tr>\n",
       "    <tr>\n",
       "      <th>4</th>\n",
       "      <td>41.00000</td>\n",
       "      <td>53.00000</td>\n",
       "      <td>115</td>\n",
       "      <td>False</td>\n",
       "      <td>1.564089e+09</td>\n",
       "      <td>768</td>\n",
       "      <td>sponsor</td>\n",
       "      <td>skip</td>\n",
       "      <td>NaN</td>\n",
       "      <td>0</td>\n",
       "      <td>0.0</td>\n",
       "      <td>False</td>\n",
       "      <td>1.529539e+09</td>\n",
       "      <td>False</td>\n",
       "    </tr>\n",
       "  </tbody>\n",
       "</table>\n",
       "</div>"
      ],
      "text/plain": [
       "   startTime    endTime  votes  locked  timeSubmitted  views category  \\\n",
       "0  714.00000  763.00000     64   False   1.564089e+09    386  sponsor   \n",
       "1  446.51013  513.39233    225   False   1.564089e+09   3222  sponsor   \n",
       "2  488.52150  542.11035     -2   False   1.564089e+09  25661  sponsor   \n",
       "3  497.14310  569.15330     -2   False   1.564089e+09  24217  sponsor   \n",
       "4   41.00000   53.00000    115   False   1.564089e+09    768  sponsor   \n",
       "\n",
       "  actionType  videoDuration  hidden  reputation  shadowHidden     published  \\\n",
       "0       skip            NaN       0         0.0         False  1.529539e+09   \n",
       "1       skip            NaN       1         0.0         False  1.562458e+09   \n",
       "2       skip          552.0       0         0.0         False  1.534032e+09   \n",
       "3       skip            NaN       0         0.0         False  1.517443e+09   \n",
       "4       skip            NaN       0         0.0         False  1.529539e+09   \n",
       "\n",
       "   isVIP  \n",
       "0  False  \n",
       "1  False  \n",
       "2  False  \n",
       "3  False  \n",
       "4  False  "
      ]
     },
     "metadata": {},
     "output_type": "display_data"
    }
   ],
   "source": [
    "sb_data = pd.read_csv(sb_filtered_data_file, \n",
    "                      dtype=dtypes,\n",
    "                      usecols=lambda col: col not in unwanted_cols__,\n",
    "                      #converters={'timeSubmitted':convert_timestamp_to_seconds},\n",
    "                      # skiprows=range(1, 6_000_000),\n",
    "                      # nrows = 8_000_000,\n",
    "                      na_values={'videoDuration': [0],\n",
    "                                 'published': [0]})\n",
    "\n",
    "pd.set_option('display.max_columns', None)\n",
    "display(sb_data.head())"
   ]
  },
  {
   "cell_type": "code",
   "execution_count": 81,
   "id": "acdac35e-8e66-4b56-a739-e28129979a5c",
   "metadata": {},
   "outputs": [],
   "source": [
    "# readCol = ['category']\n",
    "# sb_data_cat = pd.read_csv(sb_filtered_data_file, \n",
    "#                       dtype=dtypes,\n",
    "#                       usecols=lambda col: col in readCol)\n",
    "# print(len(sb_data_cat))\n",
    "# sb_data_cat['category'].value_counts()\n",
    "# print(len(sb_data_cat))"
   ]
  },
  {
   "cell_type": "code",
   "execution_count": 82,
   "id": "8e4c4404-5628-42e4-bd79-a8a768aa1a4e",
   "metadata": {},
   "outputs": [
    {
     "name": "stdout",
     "output_type": "stream",
     "text": [
      "15334922\n"
     ]
    }
   ],
   "source": [
    "print(len(sb_data))"
   ]
  },
  {
   "cell_type": "code",
   "execution_count": 83,
   "id": "ab322223-74fc-4c84-999e-c0b7c772ef05",
   "metadata": {},
   "outputs": [],
   "source": [
    "sb_data = sb_data[sb_data['category'] != 'moreCategories']"
   ]
  },
  {
   "cell_type": "code",
   "execution_count": 84,
   "id": "2b4ae91d-4be5-42dc-97f8-06a54bbbf3a8",
   "metadata": {},
   "outputs": [
    {
     "name": "stdout",
     "output_type": "stream",
     "text": [
      "15334918\n"
     ]
    }
   ],
   "source": [
    "print(len(sb_data))"
   ]
  },
  {
   "cell_type": "code",
   "execution_count": 92,
   "id": "0505af53-1a1a-4ed3-97f0-62d8891c22ab",
   "metadata": {},
   "outputs": [
    {
     "data": {
      "text/plain": [
       "category\n",
       "sponsor             3483201\n",
       "intro               2742959\n",
       "filler              2676918\n",
       "outro               2107166\n",
       "selfpromo           1339473\n",
       "interaction         1177598\n",
       "poi_highlight        771380\n",
       "preview              421595\n",
       "music_offtopic       404021\n",
       "chapter              190634\n",
       "exclusive_access      19973\n",
       "moreCategories            0\n",
       "Name: count, dtype: int64"
      ]
     },
     "execution_count": 92,
     "metadata": {},
     "output_type": "execute_result"
    }
   ],
   "source": [
    "sb_data['category'].cat.remove_unused_categories()\n",
    "sb_data['category'].value_counts()"
   ]
  },
  {
   "cell_type": "code",
   "execution_count": 93,
   "id": "880c56b2-b970-4896-8054-fdf6f72ed737",
   "metadata": {},
   "outputs": [
    {
     "name": "stderr",
     "output_type": "stream",
     "text": [
      "C:\\Users\\joyji\\AppData\\Local\\Temp\\ipykernel_12748\\6632669.py:3: FutureWarning: The default of observed=False is deprecated and will be changed to True in a future version of pandas. Pass observed=False to retain current behavior or observed=True to adopt the future default and silence this warning.\n",
      "  stratified_sample = sb_data.groupby('category', group_keys=False).apply(lambda x: x.sample(frac=fraction))\n",
      "C:\\Users\\joyji\\AppData\\Local\\Temp\\ipykernel_12748\\6632669.py:3: DeprecationWarning: DataFrameGroupBy.apply operated on the grouping columns. This behavior is deprecated, and in a future version of pandas the grouping columns will be excluded from the operation. Either pass `include_groups=False` to exclude the groupings or explicitly select the grouping columns after groupby to silence this warning.\n",
      "  stratified_sample = sb_data.groupby('category', group_keys=False).apply(lambda x: x.sample(frac=fraction))\n"
     ]
    }
   ],
   "source": [
    "fraction = 0.2\n",
    "\n",
    "stratified_sample = sb_data.groupby('category', group_keys=False).apply(lambda x: x.sample(frac=fraction))\n",
    "stratified_sample.reset_index(drop=True, inplace=True)"
   ]
  },
  {
   "cell_type": "code",
   "execution_count": 94,
   "id": "3777b500-d5de-4c05-8230-f4d786b97a38",
   "metadata": {},
   "outputs": [
    {
     "name": "stdout",
     "output_type": "stream",
     "text": [
      "3066985\n"
     ]
    }
   ],
   "source": [
    "print(len(stratified_sample))"
   ]
  },
  {
   "cell_type": "code",
   "execution_count": 95,
   "id": "443c19f5-49db-4765-b427-d43ee90dc3d5",
   "metadata": {},
   "outputs": [
    {
     "data": {
      "text/plain": [
       "category\n",
       "sponsor             696640\n",
       "intro               548592\n",
       "filler              535384\n",
       "outro               421433\n",
       "selfpromo           267895\n",
       "interaction         235520\n",
       "poi_highlight       154276\n",
       "preview              84319\n",
       "music_offtopic       80804\n",
       "chapter              38127\n",
       "exclusive_access      3995\n",
       "moreCategories           0\n",
       "Name: count, dtype: int64"
      ]
     },
     "execution_count": 95,
     "metadata": {},
     "output_type": "execute_result"
    }
   ],
   "source": [
    "stratified_sample['category'].value_counts()"
   ]
  },
  {
   "cell_type": "code",
   "execution_count": null,
   "id": "94509fa0-37e7-466c-a4f8-3f30900f1edf",
   "metadata": {},
   "outputs": [],
   "source": [
    "# stratified_sample['segmentDuration'] = stratified_sample['endTime']-stratified_sample['startTime']\n",
    "# stratified_sample['scaledStart'] = stratified_sample['startTime']/stratified_sample['videoDuration']\n",
    "# stratified_sample['scaledEnd'] = stratified_sample['endTime']/stratified_sample['videoDuration']\n",
    "# stratified_sample['scaledSegmentDuration'] = stratified_sample['segmentDuration']/stratified_sample['videoDuration']\n",
    "# stratified_sample['timeToSubmission'] = stratified_sample['timeSubmitted']-stratified_sample['published']"
   ]
  },
  {
   "cell_type": "code",
   "execution_count": 103,
   "id": "d21eac1d-0077-43fa-88c2-4f388e52fccb",
   "metadata": {},
   "outputs": [],
   "source": [
    "from sklearn.pipeline import make_pipeline\n",
    "from sklearn.compose import ColumnTransformer\n",
    "from sklearn.impute import SimpleImputer\n",
    "from sklearn.preprocessing import StandardScaler, OneHotEncoder\n",
    "from sklearn.model_selection import train_test_split"
   ]
  },
  {
   "cell_type": "code",
   "execution_count": 105,
   "id": "35c38a4a-4b58-436f-965d-0ccdc9366a53",
   "metadata": {},
   "outputs": [
    {
     "data": {
      "text/plain": [
       "1775487        outro\n",
       "2116207    selfpromo\n",
       "875103         intro\n",
       "502825        filler\n",
       "2824427      sponsor\n",
       "Name: category, dtype: category\n",
       "Categories (12, object): ['filler', 'interaction', 'intro', 'music_offtopic', ..., 'moreCategories', 'poi_highlight', 'exclusive_access', 'chapter']"
      ]
     },
     "execution_count": 105,
     "metadata": {},
     "output_type": "execute_result"
    }
   ],
   "source": [
    "train_set, test_set = train_test_split(stratified_sample, test_size=0.2, random_state=42)\n",
    "len(train_set), len(test_set)\n",
    "\n",
    "\n",
    "sb = train_set.drop(\"category\", axis=1)\n",
    "sb_labels = train_set[\"category\"].copy()\n",
    "sb_test = test_set.drop(\"category\", axis=1)\n",
    "sb_labels_test = test_set[\"category\"].copy()\n",
    "\n",
    "sb.head()\n",
    "sb_labels.head()\n"
   ]
  },
  {
   "cell_type": "code",
   "execution_count": null,
   "id": "552e873c-94c6-4341-98f6-124e284fd0af",
   "metadata": {},
   "outputs": [],
   "source": [
    "num_pipeline = make_pipeline(SimpleImputer(strategy=\"median\"),\n",
    "                            StandardScaler())\n",
    "\n",
    "cat_pipeline = make_pipeline(SimpleImputer(strategy=\"most_frequent\"),\n",
    "                                        OneHotEncoder(handle_unknown='ignore'))\n",
    "\n",
    "num_attribs = ['startTime', 'endTime', 'votes', 'timeSubmitted', 'views', 'videoDuration', 'reputation', 'published']\n",
    "cat_attribs = ['locked', 'category', 'actionType', 'hidden', 'shadowHidden', 'isVIP']\n",
    "\n",
    "\n",
    "preprocess_pipeline = ColumnTransformer(\n",
    "[('num', num_pipeline, num_attribs),\n",
    "('cat', cat_pipeline, cat_attribs)])\n",
    "\n",
    "\n",
    "stratified_sample_processed = preprocess_pipeline.fit_transform(stratified_sample)"
   ]
  }
 ],
 "metadata": {
  "kernelspec": {
   "display_name": "Python 3 (ipykernel)",
   "language": "python",
   "name": "python3"
  },
  "language_info": {
   "codemirror_mode": {
    "name": "ipython",
    "version": 3
   },
   "file_extension": ".py",
   "mimetype": "text/x-python",
   "name": "python",
   "nbconvert_exporter": "python",
   "pygments_lexer": "ipython3",
   "version": "3.9.19"
  }
 },
 "nbformat": 4,
 "nbformat_minor": 5
}
