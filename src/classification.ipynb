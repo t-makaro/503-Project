{
 "cells": [
  {
   "cell_type": "code",
   "execution_count": 93,
   "id": "fc949af9-4543-4884-9742-4f972f1d1f75",
   "metadata": {},
   "outputs": [],
   "source": [
    "import numpy as np\n",
    "import pandas as pd\n",
    "from constants import *\n",
    "import matplotlib.pyplot as plt\n",
    "\n",
    "sb_data_file = 'D:/UVic/CSC503Proj/data/merged_data.csv'\n",
    "sb_filtered_data_file = 'D:/UVic/CSC503Proj/data/filtered_data.csv'\n",
    "\n",
    "unwanted_cols__ = ['Unnamed: 0', 'videoID', 'UUID', 'description', 'title', 'userID', 'channelID', 'incorrectVotes']"
   ]
  },
  {
   "cell_type": "code",
   "execution_count": null,
   "id": "5fa4f4c3-dd05-4bc0-b2fb-8df6e565d787",
   "metadata": {},
   "outputs": [],
   "source": [
    "# Read the file, filter the columns, and save the new file\n",
    "\n",
    "\n",
    "# df = pd.read_csv(sb_data_file, low_memory=False)\n",
    "# filtered_df = df.loc[:, ~df.columns.isin(unwanted_cols__)]\n",
    "# filtered_df.to_csv(sb_filtered_data_file, index=False)\n",
    "\n",
    "# print(f\"Filtered data has been written to {sb_filtered_data_file}\")"
   ]
  },
  {
   "cell_type": "code",
   "execution_count": 94,
   "id": "0adf4c74-8723-4bd3-80d3-47ea02233013",
   "metadata": {},
   "outputs": [
    {
     "data": {
      "text/html": [
       "<div>\n",
       "<style scoped>\n",
       "    .dataframe tbody tr th:only-of-type {\n",
       "        vertical-align: middle;\n",
       "    }\n",
       "\n",
       "    .dataframe tbody tr th {\n",
       "        vertical-align: top;\n",
       "    }\n",
       "\n",
       "    .dataframe thead th {\n",
       "        text-align: right;\n",
       "    }\n",
       "</style>\n",
       "<table border=\"1\" class=\"dataframe\">\n",
       "  <thead>\n",
       "    <tr style=\"text-align: right;\">\n",
       "      <th></th>\n",
       "      <th>startTime</th>\n",
       "      <th>endTime</th>\n",
       "      <th>votes</th>\n",
       "      <th>locked</th>\n",
       "      <th>timeSubmitted</th>\n",
       "      <th>views</th>\n",
       "      <th>category</th>\n",
       "      <th>actionType</th>\n",
       "      <th>videoDuration</th>\n",
       "      <th>hidden</th>\n",
       "      <th>reputation</th>\n",
       "      <th>shadowHidden</th>\n",
       "      <th>published</th>\n",
       "      <th>isVIP</th>\n",
       "    </tr>\n",
       "  </thead>\n",
       "  <tbody>\n",
       "    <tr>\n",
       "      <th>0</th>\n",
       "      <td>714.00000</td>\n",
       "      <td>763.00000</td>\n",
       "      <td>64</td>\n",
       "      <td>False</td>\n",
       "      <td>1.564089e+09</td>\n",
       "      <td>386</td>\n",
       "      <td>sponsor</td>\n",
       "      <td>skip</td>\n",
       "      <td>NaN</td>\n",
       "      <td>0</td>\n",
       "      <td>0.0</td>\n",
       "      <td>False</td>\n",
       "      <td>1.529539e+09</td>\n",
       "      <td>False</td>\n",
       "    </tr>\n",
       "    <tr>\n",
       "      <th>1</th>\n",
       "      <td>446.51013</td>\n",
       "      <td>513.39233</td>\n",
       "      <td>225</td>\n",
       "      <td>False</td>\n",
       "      <td>1.564089e+09</td>\n",
       "      <td>3222</td>\n",
       "      <td>sponsor</td>\n",
       "      <td>skip</td>\n",
       "      <td>NaN</td>\n",
       "      <td>1</td>\n",
       "      <td>0.0</td>\n",
       "      <td>False</td>\n",
       "      <td>1.562458e+09</td>\n",
       "      <td>False</td>\n",
       "    </tr>\n",
       "    <tr>\n",
       "      <th>2</th>\n",
       "      <td>488.52150</td>\n",
       "      <td>542.11035</td>\n",
       "      <td>-2</td>\n",
       "      <td>False</td>\n",
       "      <td>1.564089e+09</td>\n",
       "      <td>25661</td>\n",
       "      <td>sponsor</td>\n",
       "      <td>skip</td>\n",
       "      <td>552.0</td>\n",
       "      <td>0</td>\n",
       "      <td>0.0</td>\n",
       "      <td>False</td>\n",
       "      <td>1.534032e+09</td>\n",
       "      <td>False</td>\n",
       "    </tr>\n",
       "    <tr>\n",
       "      <th>3</th>\n",
       "      <td>497.14310</td>\n",
       "      <td>569.15330</td>\n",
       "      <td>-2</td>\n",
       "      <td>False</td>\n",
       "      <td>1.564089e+09</td>\n",
       "      <td>24217</td>\n",
       "      <td>sponsor</td>\n",
       "      <td>skip</td>\n",
       "      <td>NaN</td>\n",
       "      <td>0</td>\n",
       "      <td>0.0</td>\n",
       "      <td>False</td>\n",
       "      <td>1.517443e+09</td>\n",
       "      <td>False</td>\n",
       "    </tr>\n",
       "    <tr>\n",
       "      <th>4</th>\n",
       "      <td>41.00000</td>\n",
       "      <td>53.00000</td>\n",
       "      <td>115</td>\n",
       "      <td>False</td>\n",
       "      <td>1.564089e+09</td>\n",
       "      <td>768</td>\n",
       "      <td>sponsor</td>\n",
       "      <td>skip</td>\n",
       "      <td>NaN</td>\n",
       "      <td>0</td>\n",
       "      <td>0.0</td>\n",
       "      <td>False</td>\n",
       "      <td>1.529539e+09</td>\n",
       "      <td>False</td>\n",
       "    </tr>\n",
       "  </tbody>\n",
       "</table>\n",
       "</div>"
      ],
      "text/plain": [
       "   startTime    endTime  votes  locked  timeSubmitted  views category  \\\n",
       "0  714.00000  763.00000     64   False   1.564089e+09    386  sponsor   \n",
       "1  446.51013  513.39233    225   False   1.564089e+09   3222  sponsor   \n",
       "2  488.52150  542.11035     -2   False   1.564089e+09  25661  sponsor   \n",
       "3  497.14310  569.15330     -2   False   1.564089e+09  24217  sponsor   \n",
       "4   41.00000   53.00000    115   False   1.564089e+09    768  sponsor   \n",
       "\n",
       "  actionType  videoDuration  hidden  reputation  shadowHidden     published  \\\n",
       "0       skip            NaN       0         0.0         False  1.529539e+09   \n",
       "1       skip            NaN       1         0.0         False  1.562458e+09   \n",
       "2       skip          552.0       0         0.0         False  1.534032e+09   \n",
       "3       skip            NaN       0         0.0         False  1.517443e+09   \n",
       "4       skip            NaN       0         0.0         False  1.529539e+09   \n",
       "\n",
       "   isVIP  \n",
       "0  False  \n",
       "1  False  \n",
       "2  False  \n",
       "3  False  \n",
       "4  False  "
      ]
     },
     "metadata": {},
     "output_type": "display_data"
    }
   ],
   "source": [
    "sb_data = pd.read_csv(sb_filtered_data_file, \n",
    "                      dtype=dtypes,\n",
    "                      usecols=lambda col: col not in unwanted_cols__,\n",
    "                      #converters={'timeSubmitted':convert_timestamp_to_seconds},\n",
    "                      # skiprows=range(1, 6_000_000),\n",
    "                      # nrows = 8_000_000,\n",
    "                      na_values={'videoDuration': [0],\n",
    "                                 'published': [0]})\n",
    "\n",
    "pd.set_option('display.max_columns', None)\n",
    "display(sb_data.head())"
   ]
  },
  {
   "cell_type": "code",
   "execution_count": null,
   "id": "acdac35e-8e66-4b56-a739-e28129979a5c",
   "metadata": {},
   "outputs": [],
   "source": [
    "# readCol = ['category']\n",
    "# sb_data_cat = pd.read_csv(sb_filtered_data_file, \n",
    "#                       dtype=dtypes,\n",
    "#                       usecols=lambda col: col in readCol)\n",
    "# print(len(sb_data_cat))\n",
    "# sb_data_cat['category'].value_counts()\n",
    "# print(len(sb_data_cat))"
   ]
  },
  {
   "cell_type": "code",
   "execution_count": 95,
   "id": "8e4c4404-5628-42e4-bd79-a8a768aa1a4e",
   "metadata": {},
   "outputs": [
    {
     "name": "stdout",
     "output_type": "stream",
     "text": [
      "15334922\n"
     ]
    }
   ],
   "source": [
    "print(len(sb_data))"
   ]
  },
  {
   "cell_type": "code",
   "execution_count": 96,
   "id": "ab322223-74fc-4c84-999e-c0b7c772ef05",
   "metadata": {},
   "outputs": [],
   "source": [
    "sb_data['category'].value_counts()\n",
    "sb_data = sb_data[sb_data['category'] != 'moreCategories']"
   ]
  },
  {
   "cell_type": "code",
   "execution_count": 97,
   "id": "2b4ae91d-4be5-42dc-97f8-06a54bbbf3a8",
   "metadata": {},
   "outputs": [
    {
     "name": "stdout",
     "output_type": "stream",
     "text": [
      "15334918\n"
     ]
    }
   ],
   "source": [
    "print(len(sb_data))"
   ]
  },
  {
   "cell_type": "code",
   "execution_count": 98,
   "id": "0505af53-1a1a-4ed3-97f0-62d8891c22ab",
   "metadata": {},
   "outputs": [
    {
     "data": {
      "text/plain": [
       "category\n",
       "sponsor             3483201\n",
       "intro               2742959\n",
       "filler              2676918\n",
       "outro               2107166\n",
       "selfpromo           1339473\n",
       "interaction         1177598\n",
       "poi_highlight        771380\n",
       "preview              421595\n",
       "music_offtopic       404021\n",
       "chapter              190634\n",
       "exclusive_access      19973\n",
       "moreCategories            0\n",
       "Name: count, dtype: int64"
      ]
     },
     "execution_count": 98,
     "metadata": {},
     "output_type": "execute_result"
    }
   ],
   "source": [
    "# sb_data['category'].remove_unused_categories()\n",
    "sb_data[\"category\"].cat.remove_categories(['moreCategories'])\n",
    "sb_data['category'].value_counts()"
   ]
  },
  {
   "cell_type": "code",
   "execution_count": 99,
   "id": "880c56b2-b970-4896-8054-fdf6f72ed737",
   "metadata": {},
   "outputs": [
    {
     "name": "stderr",
     "output_type": "stream",
     "text": [
      "C:\\Users\\joyji\\AppData\\Local\\Temp\\ipykernel_6084\\6632669.py:3: FutureWarning: The default of observed=False is deprecated and will be changed to True in a future version of pandas. Pass observed=False to retain current behavior or observed=True to adopt the future default and silence this warning.\n",
      "  stratified_sample = sb_data.groupby('category', group_keys=False).apply(lambda x: x.sample(frac=fraction))\n",
      "C:\\Users\\joyji\\AppData\\Local\\Temp\\ipykernel_6084\\6632669.py:3: DeprecationWarning: DataFrameGroupBy.apply operated on the grouping columns. This behavior is deprecated, and in a future version of pandas the grouping columns will be excluded from the operation. Either pass `include_groups=False` to exclude the groupings or explicitly select the grouping columns after groupby to silence this warning.\n",
      "  stratified_sample = sb_data.groupby('category', group_keys=False).apply(lambda x: x.sample(frac=fraction))\n"
     ]
    }
   ],
   "source": [
    "fraction = 0.2\n",
    "\n",
    "stratified_sample = sb_data.groupby('category', group_keys=False).apply(lambda x: x.sample(frac=fraction))\n",
    "stratified_sample.reset_index(drop=True, inplace=True)"
   ]
  },
  {
   "cell_type": "code",
   "execution_count": 100,
   "id": "3777b500-d5de-4c05-8230-f4d786b97a38",
   "metadata": {},
   "outputs": [
    {
     "name": "stdout",
     "output_type": "stream",
     "text": [
      "3066985\n"
     ]
    }
   ],
   "source": [
    "print(len(stratified_sample))"
   ]
  },
  {
   "cell_type": "code",
   "execution_count": 112,
   "id": "443c19f5-49db-4765-b427-d43ee90dc3d5",
   "metadata": {},
   "outputs": [
    {
     "data": {
      "text/plain": [
       "category\n",
       "sponsor             696640\n",
       "intro               548592\n",
       "filler              535384\n",
       "outro               421433\n",
       "selfpromo           267895\n",
       "interaction         235520\n",
       "poi_highlight       154276\n",
       "preview              84319\n",
       "music_offtopic       80804\n",
       "chapter              38127\n",
       "exclusive_access      3995\n",
       "moreCategories           0\n",
       "Name: count, dtype: int64"
      ]
     },
     "execution_count": 112,
     "metadata": {},
     "output_type": "execute_result"
    }
   ],
   "source": [
    "stratified_sample['category'].value_counts()"
   ]
  },
  {
   "cell_type": "code",
   "execution_count": null,
   "id": "94509fa0-37e7-466c-a4f8-3f30900f1edf",
   "metadata": {},
   "outputs": [],
   "source": [
    "# stratified_sample['segmentDuration'] = stratified_sample['endTime']-stratified_sample['startTime']\n",
    "# stratified_sample['scaledStart'] = stratified_sample['startTime']/stratified_sample['videoDuration']\n",
    "# stratified_sample['scaledEnd'] = stratified_sample['endTime']/stratified_sample['videoDuration']\n",
    "# stratified_sample['scaledSegmentDuration'] = stratified_sample['segmentDuration']/stratified_sample['videoDuration']\n",
    "# stratified_sample['timeToSubmission'] = stratified_sample['timeSubmitted']-stratified_sample['published']"
   ]
  },
  {
   "cell_type": "code",
   "execution_count": 101,
   "id": "d21eac1d-0077-43fa-88c2-4f388e52fccb",
   "metadata": {},
   "outputs": [],
   "source": [
    "from sklearn.pipeline import make_pipeline\n",
    "from sklearn.compose import ColumnTransformer\n",
    "from sklearn.impute import SimpleImputer\n",
    "from sklearn.preprocessing import StandardScaler, OneHotEncoder\n",
    "from sklearn.model_selection import train_test_split"
   ]
  },
  {
   "cell_type": "code",
   "execution_count": 102,
   "id": "35c38a4a-4b58-436f-965d-0ccdc9366a53",
   "metadata": {},
   "outputs": [
    {
     "data": {
      "text/html": [
       "<div>\n",
       "<style scoped>\n",
       "    .dataframe tbody tr th:only-of-type {\n",
       "        vertical-align: middle;\n",
       "    }\n",
       "\n",
       "    .dataframe tbody tr th {\n",
       "        vertical-align: top;\n",
       "    }\n",
       "\n",
       "    .dataframe thead th {\n",
       "        text-align: right;\n",
       "    }\n",
       "</style>\n",
       "<table border=\"1\" class=\"dataframe\">\n",
       "  <thead>\n",
       "    <tr style=\"text-align: right;\">\n",
       "      <th></th>\n",
       "      <th>startTime</th>\n",
       "      <th>endTime</th>\n",
       "      <th>votes</th>\n",
       "      <th>locked</th>\n",
       "      <th>timeSubmitted</th>\n",
       "      <th>views</th>\n",
       "      <th>actionType</th>\n",
       "      <th>videoDuration</th>\n",
       "      <th>hidden</th>\n",
       "      <th>reputation</th>\n",
       "      <th>shadowHidden</th>\n",
       "      <th>published</th>\n",
       "      <th>isVIP</th>\n",
       "    </tr>\n",
       "  </thead>\n",
       "  <tbody>\n",
       "    <tr>\n",
       "      <th>1775487</th>\n",
       "      <td>484.000</td>\n",
       "      <td>556.781</td>\n",
       "      <td>0</td>\n",
       "      <td>False</td>\n",
       "      <td>1.649502e+09</td>\n",
       "      <td>0</td>\n",
       "      <td>skip</td>\n",
       "      <td>556.781</td>\n",
       "      <td>0</td>\n",
       "      <td>0.0</td>\n",
       "      <td>False</td>\n",
       "      <td>1.614643e+09</td>\n",
       "      <td>False</td>\n",
       "    </tr>\n",
       "    <tr>\n",
       "      <th>2116207</th>\n",
       "      <td>745.743</td>\n",
       "      <td>776.396</td>\n",
       "      <td>0</td>\n",
       "      <td>False</td>\n",
       "      <td>1.688675e+09</td>\n",
       "      <td>247</td>\n",
       "      <td>skip</td>\n",
       "      <td>1376.641</td>\n",
       "      <td>0</td>\n",
       "      <td>0.0</td>\n",
       "      <td>False</td>\n",
       "      <td>NaN</td>\n",
       "      <td>False</td>\n",
       "    </tr>\n",
       "    <tr>\n",
       "      <th>875103</th>\n",
       "      <td>0.000</td>\n",
       "      <td>196.622</td>\n",
       "      <td>0</td>\n",
       "      <td>False</td>\n",
       "      <td>1.649961e+09</td>\n",
       "      <td>2</td>\n",
       "      <td>skip</td>\n",
       "      <td>19520.000</td>\n",
       "      <td>1</td>\n",
       "      <td>1.2</td>\n",
       "      <td>False</td>\n",
       "      <td>NaN</td>\n",
       "      <td>False</td>\n",
       "    </tr>\n",
       "    <tr>\n",
       "      <th>502825</th>\n",
       "      <td>2563.500</td>\n",
       "      <td>2568.000</td>\n",
       "      <td>0</td>\n",
       "      <td>False</td>\n",
       "      <td>1.657875e+09</td>\n",
       "      <td>0</td>\n",
       "      <td>skip</td>\n",
       "      <td>5802.000</td>\n",
       "      <td>2</td>\n",
       "      <td>0.0</td>\n",
       "      <td>False</td>\n",
       "      <td>1.606867e+09</td>\n",
       "      <td>False</td>\n",
       "    </tr>\n",
       "    <tr>\n",
       "      <th>2824427</th>\n",
       "      <td>58.696</td>\n",
       "      <td>129.359</td>\n",
       "      <td>0</td>\n",
       "      <td>False</td>\n",
       "      <td>1.732049e+09</td>\n",
       "      <td>38</td>\n",
       "      <td>skip</td>\n",
       "      <td>1598.161</td>\n",
       "      <td>0</td>\n",
       "      <td>0.0</td>\n",
       "      <td>False</td>\n",
       "      <td>NaN</td>\n",
       "      <td>False</td>\n",
       "    </tr>\n",
       "  </tbody>\n",
       "</table>\n",
       "</div>"
      ],
      "text/plain": [
       "         startTime   endTime  votes  locked  timeSubmitted  views actionType  \\\n",
       "1775487    484.000   556.781      0   False   1.649502e+09      0       skip   \n",
       "2116207    745.743   776.396      0   False   1.688675e+09    247       skip   \n",
       "875103       0.000   196.622      0   False   1.649961e+09      2       skip   \n",
       "502825    2563.500  2568.000      0   False   1.657875e+09      0       skip   \n",
       "2824427     58.696   129.359      0   False   1.732049e+09     38       skip   \n",
       "\n",
       "         videoDuration  hidden  reputation  shadowHidden     published  isVIP  \n",
       "1775487        556.781       0         0.0         False  1.614643e+09  False  \n",
       "2116207       1376.641       0         0.0         False           NaN  False  \n",
       "875103       19520.000       1         1.2         False           NaN  False  \n",
       "502825        5802.000       2         0.0         False  1.606867e+09  False  \n",
       "2824427       1598.161       0         0.0         False           NaN  False  "
      ]
     },
     "execution_count": 102,
     "metadata": {},
     "output_type": "execute_result"
    }
   ],
   "source": [
    "train_set, test_set = train_test_split(stratified_sample, test_size=0.2, random_state=42)\n",
    "len(train_set), len(test_set)\n",
    "\n",
    "\n",
    "sb = train_set.drop(\"category\", axis=1)\n",
    "sb_labels = train_set[\"category\"].copy()\n",
    "sb_test = test_set.drop(\"category\", axis=1)\n",
    "\n",
    "\n",
    "sb_labels_test = test_set[\"category\"].copy()\n",
    "\n",
    "sb.head()\n",
    "# sb_labels.head()\n"
   ]
  },
  {
   "cell_type": "code",
   "execution_count": 103,
   "id": "552e873c-94c6-4341-98f6-124e284fd0af",
   "metadata": {},
   "outputs": [],
   "source": [
    "num_pipeline = make_pipeline(SimpleImputer(strategy=\"median\"),\n",
    "                            StandardScaler())\n",
    "\n",
    "cat_pipeline = make_pipeline(SimpleImputer(strategy=\"most_frequent\"),\n",
    "                                        OneHotEncoder(handle_unknown='ignore'))\n",
    "\n",
    "actiontype_pipeline = make_pipeline(OneHotEncoder(handle_unknown='ignore'))\n",
    "\n",
    "num_attribs = ['startTime', 'endTime', 'votes', 'timeSubmitted', 'views', 'videoDuration', 'reputation', 'published']\n",
    "cat_attribs = ['locked', 'hidden', 'shadowHidden', 'isVIP']\n",
    "\n",
    "\n",
    "# num_attribs = ['startTime', 'endTime', 'votes', 'timeSubmitted', 'views', 'video duration', 'reputation', 'published']\n",
    "# cat_attribs = ['locked', 'actionType', 'hidden', 'shadowHidden', 'isVIP']\n",
    "\n",
    "\n",
    "preprocess_pipeline = ColumnTransformer([('num', num_pipeline, num_attribs), \n",
    "                                         ('cat', cat_pipeline, cat_attribs),\n",
    "                                         ('action', actiontype_pipeline, ['actionType'])\n",
    "                                        ])\n",
    "\n",
    "# preprocess_pipeline = ColumnTransformer([('num', num_pipeline, num_attribs)])\n",
    "\n",
    "\n",
    "# sb_processed = preprocess_pipeline.fit_transform(sb)\n",
    "# print(sb_processed[:5])\n",
    "\n",
    "# sb_processed = pd.DataFrame(sb_processed,\n",
    "# columns=preprocess_pipeline.get_feature_names_out())\n",
    "# sb_processed.head()"
   ]
  },
  {
   "cell_type": "code",
   "execution_count": 104,
   "id": "687f0702-27bb-4c3e-bf72-3d1081e0190b",
   "metadata": {},
   "outputs": [
    {
     "name": "stdout",
     "output_type": "stream",
     "text": [
      "(2453588, 22)\n"
     ]
    }
   ],
   "source": [
    "import torch\n",
    "import torch.nn as nn\n",
    "import torch.optim as optim\n",
    "from torch.utils.data import DataLoader, TensorDataset\n",
    "from sklearn.metrics import classification_report, accuracy_score\n",
    "\n",
    "# Preprocessing the data\n",
    "sb_processed = preprocess_pipeline.fit_transform(sb)\n",
    "sb_test_processed = preprocess_pipeline.transform(sb_test)\n",
    "\n",
    "print(sb_processed.shape)"
   ]
  },
  {
   "cell_type": "code",
   "execution_count": 105,
   "id": "74cff340-6243-437e-98ef-06325e618339",
   "metadata": {},
   "outputs": [
    {
     "data": {
      "text/html": [
       "<div>\n",
       "<style scoped>\n",
       "    .dataframe tbody tr th:only-of-type {\n",
       "        vertical-align: middle;\n",
       "    }\n",
       "\n",
       "    .dataframe tbody tr th {\n",
       "        vertical-align: top;\n",
       "    }\n",
       "\n",
       "    .dataframe thead th {\n",
       "        text-align: right;\n",
       "    }\n",
       "</style>\n",
       "<table border=\"1\" class=\"dataframe\">\n",
       "  <thead>\n",
       "    <tr style=\"text-align: right;\">\n",
       "      <th></th>\n",
       "      <th>category</th>\n",
       "    </tr>\n",
       "  </thead>\n",
       "  <tbody>\n",
       "    <tr>\n",
       "      <th>1775487</th>\n",
       "      <td>outro</td>\n",
       "    </tr>\n",
       "    <tr>\n",
       "      <th>2116207</th>\n",
       "      <td>selfpromo</td>\n",
       "    </tr>\n",
       "    <tr>\n",
       "      <th>875103</th>\n",
       "      <td>intro</td>\n",
       "    </tr>\n",
       "    <tr>\n",
       "      <th>502825</th>\n",
       "      <td>filler</td>\n",
       "    </tr>\n",
       "    <tr>\n",
       "      <th>2824427</th>\n",
       "      <td>sponsor</td>\n",
       "    </tr>\n",
       "  </tbody>\n",
       "</table>\n",
       "</div>"
      ],
      "text/plain": [
       "          category\n",
       "1775487      outro\n",
       "2116207  selfpromo\n",
       "875103       intro\n",
       "502825      filler\n",
       "2824427    sponsor"
      ]
     },
     "execution_count": 105,
     "metadata": {},
     "output_type": "execute_result"
    }
   ],
   "source": [
    "sb_labels = sb_labels.to_frame()\n",
    "sb_labels_test = sb_labels_test.to_frame()\n",
    "\n",
    "sb_labels.head()"
   ]
  },
  {
   "cell_type": "code",
   "execution_count": null,
   "id": "50580a21-3702-41b1-9f59-0d060d0bb794",
   "metadata": {},
   "outputs": [],
   "source": [
    "import torch\n",
    "import torch.nn as nn\n",
    "import torch.optim as optim\n",
    "from torch.utils.data import DataLoader, TensorDataset\n",
    "from sklearn.preprocessing import LabelEncoder\n",
    "from sklearn.metrics import classification_report, accuracy_score\n",
    "\n",
    "# Check for GPU\n",
    "device = torch.device(\"cuda\" if torch.cuda.is_available() else \"cpu\")\n",
    "print(f\"Using device: {device}\")\n",
    "\n",
    "# Convert labels to numeric values using LabelEncoder\n",
    "label_encoder = LabelEncoder()\n",
    "sb_labels_encoded = label_encoder.fit_transform(sb_labels)  # Train labels\n",
    "sb_labels_test_encoded = label_encoder.transform(sb_labels_test)  # Test labels\n",
    "\n",
    "# Convert to PyTorch tensors and move to device\n",
    "X_train = torch.tensor(sb_processed, dtype=torch.float32).to(device)  # Feature data\n",
    "y_train = torch.tensor(sb_labels_encoded, dtype=torch.long).to(device)  # Encoded labels\n",
    "X_test = torch.tensor(sb_test_processed, dtype=torch.float32).to(device)\n",
    "y_test = torch.tensor(sb_labels_test_encoded, dtype=torch.long).to(device)\n",
    "\n",
    "# Create DataLoader for training\n",
    "train_dataset = TensorDataset(X_train, y_train)\n",
    "train_loader = DataLoader(train_dataset, batch_size=64, shuffle=True)\n",
    "\n",
    "# Define the Neural Network Model\n",
    "class NeuralNetwork(nn.Module):\n",
    "    def __init__(self, input_size, num_classes):\n",
    "        super(NeuralNetwork, self).__init__()\n",
    "        self.network = nn.Sequential(\n",
    "            nn.Linear(input_size, 128),\n",
    "            nn.ReLU(),\n",
    "            nn.BatchNorm1d(128),\n",
    "            nn.Dropout(0.3),\n",
    "            nn.Linear(128, 64),\n",
    "            nn.ReLU(),\n",
    "            nn.Dropout(0.3),\n",
    "            nn.Linear(64, num_classes)\n",
    "        )\n",
    "\n",
    "    def forward(self, x):\n",
    "        return self.network(x)\n",
    "\n",
    "# Initialize the model, loss function, and optimizer, and move the model to the device\n",
    "input_size = X_train.shape[1]\n",
    "num_classes = len(label_encoder.classes_)  # Number of unique classes\n",
    "model = NeuralNetwork(input_size, num_classes).to(device)\n",
    "\n",
    "criterion = nn.CrossEntropyLoss()\n",
    "optimizer = optim.Adam(model.parameters(), lr=0.001)\n",
    "\n",
    "# Training the model\n",
    "epochs = 5\n",
    "model.train()\n",
    "for epoch in range(epochs):\n",
    "    running_loss = 0.0\n",
    "    for inputs, labels in train_loader:\n",
    "        # Move inputs and labels to device\n",
    "        inputs, labels = inputs.to(device), labels.to(device)\n",
    "\n",
    "        optimizer.zero_grad()\n",
    "        outputs = model(inputs)\n",
    "        loss = criterion(outputs, labels)\n",
    "        loss.backward()\n",
    "        optimizer.step()\n",
    "        running_loss += loss.item()\n",
    "\n",
    "    print(f\"Epoch {epoch + 1}/{epochs}, Loss: {running_loss / len(train_loader)}\")\n",
    "\n",
    "# Evaluate the model\n",
    "model.eval()\n",
    "with torch.no_grad():\n",
    "    outputs = model(X_test)\n",
    "    _, predicted_classes = torch.max(outputs, 1)\n",
    "    true_classes = y_test\n",
    "\n",
    "# Move predictions and true classes to CPU for evaluation\n",
    "predicted_classes = predicted_classes.cpu()\n",
    "true_classes = true_classes.cpu()\n",
    "\n",
    "# Classification report\n",
    "print(\"Classification Report:\")\n",
    "print(classification_report(true_classes.numpy(), predicted_classes.numpy(), target_names=label_encoder.classes_))\n",
    "\n",
    "# Accuracy score\n",
    "print(f\"Accuracy Score: {accuracy_score(true_classes.numpy(), predicted_classes.numpy())}\")\n"
   ]
  },
  {
   "cell_type": "code",
   "execution_count": 83,
   "id": "d77d7c40-39b7-429e-a4e4-0085bb78e370",
   "metadata": {},
   "outputs": [
    {
     "name": "stderr",
     "output_type": "stream",
     "text": [
      "C:\\Users\\joyji\\.conda\\envs\\jupyter_env\\lib\\site-packages\\sklearn\\preprocessing\\_label.py:114: DataConversionWarning: A column-vector y was passed when a 1d array was expected. Please change the shape of y to (n_samples, ), for example using ravel().\n",
      "  y = column_or_1d(y, warn=True)\n",
      "C:\\Users\\joyji\\.conda\\envs\\jupyter_env\\lib\\site-packages\\sklearn\\preprocessing\\_label.py:132: DataConversionWarning: A column-vector y was passed when a 1d array was expected. Please change the shape of y to (n_samples, ), for example using ravel().\n",
      "  y = column_or_1d(y, dtype=self.classes_.dtype, warn=True)\n"
     ]
    },
    {
     "name": "stdout",
     "output_type": "stream",
     "text": [
      "Dummy Classifier Accuracy: 0.1509\n",
      "Dummy Classifier Classification Report:\n",
      "                  precision    recall  f1-score   support\n",
      "\n",
      "         chapter       0.01      0.01      0.01      7612\n",
      "exclusive_access       0.00      0.00      0.00       781\n",
      "          filler       0.17      0.17      0.17    107266\n",
      "     interaction       0.08      0.08      0.08     47128\n",
      "           intro       0.18      0.18      0.18    109578\n",
      "  music_offtopic       0.03      0.03      0.03     16241\n",
      "           outro       0.14      0.14      0.14     84434\n",
      "   poi_highlight       0.05      0.05      0.05     30633\n",
      "         preview       0.03      0.03      0.03     16774\n",
      "       selfpromo       0.09      0.09      0.09     53298\n",
      "         sponsor       0.23      0.23      0.23    139652\n",
      "\n",
      "        accuracy                           0.15    613397\n",
      "       macro avg       0.09      0.09      0.09    613397\n",
      "    weighted avg       0.15      0.15      0.15    613397\n",
      "\n"
     ]
    }
   ],
   "source": [
    "\n",
    "from sklearn.dummy import DummyClassifier\n",
    "from sklearn.metrics import classification_report, accuracy_score\n",
    "\n",
    "label_encoder = LabelEncoder()\n",
    "sb_labels_encoded = label_encoder.fit_transform(sb_labels)  # Train labels\n",
    "sb_labels_test_encoded = label_encoder.transform(sb_labels_test)  # Test labels\n",
    "\n",
    "# Dummy Classifier for Baseline\n",
    "# Initialize the Dummy Classifier with \"most_frequent\" strategy\n",
    "dummy_clf = DummyClassifier(strategy=\"stratified\")\n",
    "\n",
    "# Fit the Dummy Classifier using the same training labels\n",
    "dummy_clf.fit(sb_processed, sb_labels_encoded)\n",
    "\n",
    "# Generate predictions for the test set\n",
    "dummy_predictions = dummy_clf.predict(sb_test_processed)\n",
    "\n",
    "# Evaluate the Dummy Classifier\n",
    "dummy_accuracy = accuracy_score(sb_labels_test_encoded, dummy_predictions)\n",
    "print(f\"Dummy Classifier Accuracy: {dummy_accuracy:.4f}\")\n",
    "\n",
    "# Detailed Classification Report for the Dummy Classifier\n",
    "print(\"Dummy Classifier Classification Report:\")\n",
    "print(classification_report(sb_labels_test_encoded, dummy_predictions, target_names=label_encoder.classes_))"
   ]
  },
  {
   "cell_type": "code",
   "execution_count": 108,
   "id": "80ad0d40-e380-4e51-aa99-1a2bb395702e",
   "metadata": {},
   "outputs": [
    {
     "name": "stderr",
     "output_type": "stream",
     "text": [
      "C:\\Users\\joyji\\.conda\\envs\\jupyter_env\\lib\\site-packages\\sklearn\\preprocessing\\_label.py:114: DataConversionWarning: A column-vector y was passed when a 1d array was expected. Please change the shape of y to (n_samples, ), for example using ravel().\n",
      "  y = column_or_1d(y, warn=True)\n",
      "C:\\Users\\joyji\\.conda\\envs\\jupyter_env\\lib\\site-packages\\sklearn\\preprocessing\\_label.py:132: DataConversionWarning: A column-vector y was passed when a 1d array was expected. Please change the shape of y to (n_samples, ), for example using ravel().\n",
      "  y = column_or_1d(y, dtype=self.classes_.dtype, warn=True)\n"
     ]
    },
    {
     "name": "stdout",
     "output_type": "stream",
     "text": [
      "        Strategy  Accuracy (%)\n",
      "0  most_frequent     22.766985\n",
      "1     stratified     15.165871\n",
      "2        uniform      9.078134\n",
      "3       constant      1.240958\n",
      "4          prior     22.766985\n"
     ]
    }
   ],
   "source": [
    "from sklearn.dummy import DummyClassifier\n",
    "from sklearn.metrics import accuracy_score\n",
    "from sklearn.preprocessing import LabelEncoder\n",
    "import pandas as pd\n",
    "\n",
    "# Encode the labels\n",
    "label_encoder = LabelEncoder()\n",
    "sb_labels_encoded = label_encoder.fit_transform(sb_labels)  # Train labels\n",
    "sb_labels_test_encoded = label_encoder.transform(sb_labels_test)  # Test labels\n",
    "\n",
    "# Define dummy classifier strategies\n",
    "strategies = [\"most_frequent\", \"stratified\", \"uniform\", \"constant\", \"prior\"]\n",
    "results = []\n",
    "\n",
    "# Iterate through strategies\n",
    "for strategy in strategies:\n",
    "    if strategy == \"constant\":\n",
    "        # DummyClassifier with constant strategy needs a specific constant value\n",
    "        dummy_clf = DummyClassifier(strategy=\"constant\", constant=0)\n",
    "    else:\n",
    "        dummy_clf = DummyClassifier(strategy=strategy)\n",
    "    \n",
    "    # Fit the Dummy Classifier using the same training labels\n",
    "    dummy_clf.fit(sb_processed, sb_labels_encoded)\n",
    "\n",
    "    # Generate predictions for the test set\n",
    "    dummy_predictions = dummy_clf.predict(sb_test_processed)\n",
    "\n",
    "    # Evaluate the Dummy Classifier\n",
    "    dummy_accuracy = accuracy_score(sb_labels_test_encoded, dummy_predictions)\n",
    "    \n",
    "    # Append results\n",
    "    results.append({\"Strategy\": strategy, \"Accuracy (%)\": dummy_accuracy * 100})\n",
    "\n",
    "# Convert results to a DataFrame for display\n",
    "results_df = pd.DataFrame(results)\n",
    "print(results_df)\n",
    "\n",
    "# Display the table\n",
    "# import ace_tools as tools; tools.display_dataframe_to_user(name=\"Dummy Classifier Accuracies\", dataframe=results_df)\n"
   ]
  },
  {
   "cell_type": "code",
   "execution_count": 115,
   "id": "26f71822-42e6-447e-addb-2c702ea9a32c",
   "metadata": {},
   "outputs": [
    {
     "name": "stderr",
     "output_type": "stream",
     "text": [
      "C:\\Users\\joyji\\.conda\\envs\\jupyter_env\\lib\\site-packages\\sklearn\\preprocessing\\_label.py:114: DataConversionWarning: A column-vector y was passed when a 1d array was expected. Please change the shape of y to (n_samples, ), for example using ravel().\n",
      "  y = column_or_1d(y, warn=True)\n",
      "C:\\Users\\joyji\\.conda\\envs\\jupyter_env\\lib\\site-packages\\sklearn\\preprocessing\\_label.py:132: DataConversionWarning: A column-vector y was passed when a 1d array was expected. Please change the shape of y to (n_samples, ), for example using ravel().\n",
      "  y = column_or_1d(y, dtype=self.classes_.dtype, warn=True)\n"
     ]
    },
    {
     "name": "stdout",
     "output_type": "stream",
     "text": [
      "Decision Tree Classifier Test Accuracy: 0.6026\n",
      "\n",
      "Classification Report (Test Data):\n",
      "                  precision    recall  f1-score   support\n",
      "\n",
      "         chapter       1.00      1.00      1.00      7612\n",
      "exclusive_access       0.28      0.31      0.30       781\n",
      "          filler       0.85      0.85      0.85    107266\n",
      "     interaction       0.27      0.27      0.27     47128\n",
      "           intro       0.59      0.59      0.59    109578\n",
      "  music_offtopic       0.29      0.29      0.29     16241\n",
      "           outro       0.68      0.67      0.67     84434\n",
      "   poi_highlight       1.00      1.00      1.00     30633\n",
      "         preview       0.24      0.25      0.24     16774\n",
      "       selfpromo       0.22      0.22      0.22     53298\n",
      "         sponsor       0.62      0.61      0.61    139652\n",
      "\n",
      "        accuracy                           0.60    613397\n",
      "       macro avg       0.55      0.55      0.55    613397\n",
      "    weighted avg       0.61      0.60      0.60    613397\n",
      "\n"
     ]
    }
   ],
   "source": [
    "from sklearn.tree import DecisionTreeClassifier\n",
    "from sklearn.preprocessing import LabelEncoder\n",
    "from sklearn.metrics import classification_report, accuracy_score\n",
    "\n",
    "# Convert labels to numeric values using LabelEncoder\n",
    "label_encoder = LabelEncoder()\n",
    "sb_labels_encoded = label_encoder.fit_transform(sb_labels)  # Train labels\n",
    "sb_labels_test_encoded = label_encoder.transform(sb_labels_test)  # Test labels\n",
    "\n",
    "# Decision trees do not require GPU; convert data to NumPy arrays\n",
    "X_train = sb_processed  # Already processed feature data\n",
    "y_train = sb_labels_encoded  # Encoded train labels\n",
    "X_test = sb_test_processed\n",
    "y_test = sb_labels_test_encoded  # Encoded test labels\n",
    "\n",
    "# Initialize the Decision Tree Classifier\n",
    "dt_classifier = DecisionTreeClassifier(criterion=\"gini\", max_depth=None, random_state=42)\n",
    "\n",
    "# Train the model\n",
    "dt_classifier.fit(X_train, y_train)\n",
    "\n",
    "# Make predictions on train data\n",
    "y_train_pred = dt_classifier.predict(X_train)\n",
    "\n",
    "# Make predictions on test data\n",
    "y_test_pred = dt_classifier.predict(X_test)\n",
    "\n",
    "# Evaluate the model on training data\n",
    "# train_accuracy = accuracy_score(y_train, y_train_pred)\n",
    "# print(f\"Decision Tree Classifier Training Accuracy: {train_accuracy:.4f}\")\n",
    "\n",
    "# Evaluate the model on test data\n",
    "test_accuracy = accuracy_score(y_test, y_test_pred)\n",
    "print(f\"Decision Tree Classifier Test Accuracy: {test_accuracy:.4f}\")\n",
    "\n",
    "# Classification report for test data\n",
    "print(\"\\nClassification Report:\")\n",
    "print(classification_report(y_test, y_test_pred, target_names=label_encoder.classes_))\n"
   ]
  },
  {
   "cell_type": "code",
   "execution_count": 117,
   "id": "8f8ba4d4-da45-4cbb-a014-1b6121be5739",
   "metadata": {},
   "outputs": [
    {
     "data": {
      "image/png": "[encoded data removed]",
      "text/plain": [
       "<Figure size 1200x1200 with 2 Axes>"
      ]
     },
     "metadata": {},
     "output_type": "display_data"
    }
   ],
   "source": [
    "from sklearn.metrics import ConfusionMatrixDisplay, confusion_matrix\n",
    "import matplotlib.pyplot as plt\n",
    "\n",
    "# Compute the confusion matrix\n",
    "cm = confusion_matrix(y_test, y_test_pred)\n",
    "\n",
    "# Display the confusion matrix with increased figure size\n",
    "fig, ax = plt.subplots(figsize=(12, 12))  # Adjust figure size for better readability\n",
    "disp = ConfusionMatrixDisplay(confusion_matrix=cm, display_labels=label_encoder.classes_)\n",
    "disp.plot(cmap=plt.cm.Blues, xticks_rotation='vertical', ax=ax)\n",
    "plt.title(\"Confusion Matrix for Random Forest Classifier\")\n",
    "plt.show()\n"
   ]
  },
  {
   "cell_type": "code",
   "execution_count": 89,
   "id": "839e7ebf-4fbf-4d1c-a668-7c913d80ed5d",
   "metadata": {},
   "outputs": [
    {
     "name": "stderr",
     "output_type": "stream",
     "text": [
      "C:\\Users\\joyji\\.conda\\envs\\jupyter_env\\lib\\site-packages\\sklearn\\preprocessing\\_label.py:114: DataConversionWarning: A column-vector y was passed when a 1d array was expected. Please change the shape of y to (n_samples, ), for example using ravel().\n",
      "  y = column_or_1d(y, warn=True)\n",
      "C:\\Users\\joyji\\.conda\\envs\\jupyter_env\\lib\\site-packages\\sklearn\\preprocessing\\_label.py:132: DataConversionWarning: A column-vector y was passed when a 1d array was expected. Please change the shape of y to (n_samples, ), for example using ravel().\n",
      "  y = column_or_1d(y, dtype=self.classes_.dtype, warn=True)\n"
     ]
    },
    {
     "name": "stdout",
     "output_type": "stream",
     "text": [
      "Random Forest Classifier Test Accuracy: 0.6915\n",
      "Classification Report:\n",
      "                  precision    recall  f1-score   support\n",
      "\n",
      "         chapter       1.00      1.00      1.00      7612\n",
      "exclusive_access       0.36      0.20      0.25       781\n",
      "          filler       0.94      0.86      0.90    107266\n",
      "     interaction       0.42      0.20      0.27     47128\n",
      "           intro       0.63      0.79      0.70    109578\n",
      "  music_offtopic       0.52      0.32      0.39     16241\n",
      "           outro       0.63      0.89      0.74     84434\n",
      "   poi_highlight       1.00      1.00      1.00     30633\n",
      "         preview       0.49      0.21      0.29     16774\n",
      "       selfpromo       0.41      0.14      0.20     53298\n",
      "         sponsor       0.65      0.76      0.70    139652\n",
      "\n",
      "        accuracy                           0.69    613397\n",
      "       macro avg       0.64      0.58      0.59    613397\n",
      "    weighted avg       0.67      0.69      0.66    613397\n",
      "\n"
     ]
    }
   ],
   "source": [
    "from sklearn.ensemble import RandomForestClassifier\n",
    "from sklearn.preprocessing import LabelEncoder\n",
    "from sklearn.metrics import classification_report, accuracy_score\n",
    "\n",
    "# Encode the labels to numeric values\n",
    "label_encoder = LabelEncoder()\n",
    "sb_labels_encoded = label_encoder.fit_transform(sb_labels)  # Train labels\n",
    "sb_labels_test_encoded = label_encoder.transform(sb_labels_test)  # Test labels\n",
    "\n",
    "# Use the processed features and encoded labels\n",
    "X_train = sb_processed  # Preprocessed training features\n",
    "y_train = sb_labels_encoded  # Encoded training labels\n",
    "X_test = sb_test_processed  # Preprocessed test features\n",
    "y_test = sb_labels_test_encoded  # Encoded test labels\n",
    "\n",
    "# Initialize the Random Forest Classifier\n",
    "rf_classifier = RandomForestClassifier(\n",
    "    n_estimators=100,           # Number of trees in the forest\n",
    "    max_depth=None,             # Allow the trees to grow fully\n",
    "    random_state=42,            # Ensures reproducibility\n",
    "    class_weight=\"balanced\",    # Handle imbalanced classes\n",
    "    n_jobs=-1                   # Use all available cores for faster computation\n",
    ")\n",
    "\n",
    "# Train the model\n",
    "rf_classifier.fit(X_train, y_train)\n",
    "\n",
    "# Make predictions on the test set\n",
    "y_test_pred = rf_classifier.predict(X_test)\n",
    "\n",
    "# Evaluate the model\n",
    "accuracy = accuracy_score(y_test, y_test_pred)\n",
    "print(f\"Random Forest Classifier Test Accuracy: {accuracy:.4f}\")\n",
    "\n",
    "# Classification report for detailed metrics\n",
    "print(\"Classification Report:\")\n",
    "print(classification_report(y_test, y_test_pred, target_names=label_encoder.classes_))\n"
   ]
  },
  {
   "cell_type": "code",
   "execution_count": null,
   "id": "4592e048-7da5-44e3-a564-d319472102c0",
   "metadata": {},
   "outputs": [],
   "source": [
    "from sklearn.metrics import ConfusionMatrixDisplay, confusion_matrix\n",
    "import matplotlib.pyplot as plt\n",
    "\n",
    "# Compute the confusion matrix\n",
    "cm_ = confusion_matrix(y_test, y_test_pred)\n",
    "\n",
    "# Display the confusion matrix with increased figure size\n",
    "fig, ax = plt.subplots(figsize=(12, 12))  # Adjust figure size for better readability\n",
    "disp = ConfusionMatrixDisplay(confusion_matrix=cm, display_labels=label_encoder.classes_)\n",
    "disp.plot(cmap=plt.cm.Blues, xticks_rotation='vertical', ax=ax)\n",
    "plt.title(\"Confusion Matrix for Random Forest Classifier\")\n",
    "plt.show()\n"
   ]
  },
  {
   "cell_type": "code",
   "execution_count": 92,
   "id": "19c145cb-2f9e-4892-90b2-dc77b82b3450",
   "metadata": {},
   "outputs": [
    {
     "data": {
      "image/png": "[encoded data removed]",
      "text/plain": [
       "<Figure size 640x480 with 1 Axes>"
      ]
     },
     "metadata": {},
     "output_type": "display_data"
    },
    {
     "name": "stdout",
     "output_type": "stream",
     "text": [
      "[0.12770348 0.16298645 0.01032831 0.11450652 0.09300183 0.13250952\n",
      " 0.03353714 0.0304275  0.00068892 0.00062588 0.0230874  0.00081519\n",
      " 0.02904214 0.00228775 0.00220922 0.00131863 0.00154314 0.06667305\n",
      " 0.0366885  0.00050599 0.06590429 0.06360916]\n"
     ]
    }
   ],
   "source": [
    "import matplotlib.pyplot as plt\n",
    "feature_importances = rf_classifier.feature_importances_\n",
    "plt.barh(range(len(feature_importances)), feature_importances)\n",
    "plt.show()\n",
    "print(feature_importances)"
   ]
  },
  {
   "cell_type": "code",
   "execution_count": 109,
   "id": "14c88e21-6f91-4639-85a6-b9fe82ced42f",
   "metadata": {},
   "outputs": [
    {
     "name": "stdout",
     "output_type": "stream",
     "text": [
      "Collecting tabulate\n",
      "  Downloading tabulate-0.9.0-py3-none-any.whl.metadata (34 kB)\n",
      "Downloading tabulate-0.9.0-py3-none-any.whl (35 kB)\n",
      "Installing collected packages: tabulate\n",
      "Successfully installed tabulate-0.9.0\n"
     ]
    }
   ],
   "source": [
    "!pip install tabulate"
   ]
  },
  {
   "cell_type": "code",
   "execution_count": 111,
   "id": "7854c555-46bd-43b3-a3d2-c84c4e256288",
   "metadata": {},
   "outputs": [
    {
     "name": "stdout",
     "output_type": "stream",
     "text": [
      "+---------------+----------------+\n",
      "| Strategy      |   Accuracy (%) |\n",
      "+===============+================+\n",
      "| most_frequent |          22.77 |\n",
      "+---------------+----------------+\n",
      "| stratified    |          15.17 |\n",
      "+---------------+----------------+\n",
      "| uniform       |           9.08 |\n",
      "+---------------+----------------+\n"
     ]
    }
   ],
   "source": [
    "from tabulate import tabulate\n",
    "\n",
    "# Data\n",
    "data = [\n",
    "    {\"Strategy\": \"most_frequent\", \"Accuracy (%)\": 22.766985},\n",
    "    {\"Strategy\": \"stratified\", \"Accuracy (%)\": 15.165871},\n",
    "    {\"Strategy\": \"uniform\", \"Accuracy (%)\": 9.078134},\n",
    "]\n",
    "\n",
    "# Sort the data by Accuracy (%) in descending order\n",
    "sorted_data = sorted(data, key=lambda x: x[\"Accuracy (%)\"], reverse=True)\n",
    "\n",
    "# Format data for tabulate\n",
    "table_data = [[row[\"Strategy\"], f\"{row['Accuracy (%)']:.2f}\"] for row in sorted_data]\n",
    "\n",
    "# Create and display the table\n",
    "table = tabulate(table_data, headers=[\"Strategy\", \"Accuracy (%)\"], tablefmt=\"grid\")\n",
    "print(table)\n"
   ]
  },
  {
   "cell_type": "code",
   "execution_count": null,
   "id": "e79c1538-8e9a-4d26-8ac4-dbd163979f80",
   "metadata": {},
   "outputs": [],
   "source": []
  }
 ],
 "metadata": {
  "kernelspec": {
   "display_name": "Python 3 (ipykernel)",
   "language": "python",
   "name": "python3"
  },
  "language_info": {
   "codemirror_mode": {
    "name": "ipython",
    "version": 3
   },
   "file_extension": ".py",
   "mimetype": "text/x-python",
   "name": "python",
   "nbconvert_exporter": "python",
   "pygments_lexer": "ipython3",
   "version": "3.9.19"
  }
 },
 "nbformat": 4,
 "nbformat_minor": 5
}
