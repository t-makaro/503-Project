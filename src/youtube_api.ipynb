{
 "cells": [
  {
   "cell_type": "code",
   "execution_count": 1,
   "id": "df22214d-ce8e-4762-8f3a-761f3b8a9d67",
   "metadata": {},
   "outputs": [],
   "source": [
    "from googleapiclient.discovery import build\n",
    "import os"
   ]
  },
  {
   "cell_type": "code",
   "execution_count": 3,
   "id": "649dd4ff-dfd1-49b1-873b-bdbc21836f5d",
   "metadata": {},
   "outputs": [
    {
     "name": "stdout",
     "output_type": "stream",
     "text": [
      "{'kind': 'youtube#videoListResponse', 'etag': 'df41hnRlaOcyoTPqtuA4WG4RYrg', 'items': [{'kind': 'youtube#video', 'etag': 'JgGQ2jXwBB8cdQEyuOQeKJWRzRc', 'id': 'S_7lIORKPQM', 'snippet': {'publishedAt': '2021-11-22T12:06:05Z', 'channelId': 'UCsUablJrqdwCh83e55tBWPQ', 'title': 'Blast From The Past - Jerma Through The Ages 2 Stream Recap', 'description': \"what president does he remind you of though?\\n\\nSupport me here (if you really want to) - https://ko-fi.com/cheltie\\nFollow me on Twitter - https://twitter.com/Cheltie_\\nRequest a Stream to Edit (doesn't affect day-after highlights) - https://forms.gle/VKx8aKx8ytJdkPFQ8\\n\\nJerma's Twitch - https://www.twitch.tv/jerma985\\nJerma's Twitter - https://twitter.com/Jerma985\\nJerma's Youtube - https://www.youtube.com/user/Jerma985\\n\\nOriginally Streamed on November 21st, 2021\\n\\n#Jerma985 #StreamHighlights #Cheltie\", 'thumbnails': {'default': {'url': 'https://i.ytimg.com/vi/S_7lIORKPQM/default.jpg', 'width': 120, 'height': 90}, 'medium': {'url': 'https://i.ytimg.com/vi/S_7lIORKPQM/mqdefault.jpg', 'width': 320, 'height': 180}, 'high': {'url': 'https://i.ytimg.com/vi/S_7lIORKPQM/hqdefault.jpg', 'width': 480, 'height': 360}, 'standard': {'url': 'https://i.ytimg.com/vi/S_7lIORKPQM/sddefault.jpg', 'width': 640, 'height': 480}, 'maxres': {'url': 'https://i.ytimg.com/vi/S_7lIORKPQM/maxresdefault.jpg', 'width': 1280, 'height': 720}}, 'channelTitle': 'Cheltie', 'tags': ['jerma985', 'jerma highlights', 'jerma stream', 'jerma', 'stream highlights', 'highlights', 'stream', 'jerma funny joke', 'twitch', 'streamer', 'twitch streamer', 'highlight', 'Livestream', 'video games', 'jerma edit', 'jerma through the ages'], 'categoryId': '20', 'liveBroadcastContent': 'none', 'localized': {'title': 'Blast From The Past - Jerma Through The Ages 2 Stream Recap', 'description': \"what president does he remind you of though?\\n\\nSupport me here (if you really want to) - https://ko-fi.com/cheltie\\nFollow me on Twitter - https://twitter.com/Cheltie_\\nRequest a Stream to Edit (doesn't affect day-after highlights) - https://forms.gle/VKx8aKx8ytJdkPFQ8\\n\\nJerma's Twitch - https://www.twitch.tv/jerma985\\nJerma's Twitter - https://twitter.com/Jerma985\\nJerma's Youtube - https://www.youtube.com/user/Jerma985\\n\\nOriginally Streamed on November 21st, 2021\\n\\n#Jerma985 #StreamHighlights #Cheltie\"}, 'defaultAudioLanguage': 'en-US'}, 'contentDetails': {'duration': 'PT1H1M25S', 'dimension': '2d', 'definition': 'hd', 'caption': 'false', 'licensedContent': False, 'contentRating': {}, 'projection': 'rectangular'}, 'statistics': {'viewCount': '207421', 'likeCount': '5180', 'favoriteCount': '0', 'commentCount': '295'}}], 'pageInfo': {'totalResults': 1, 'resultsPerPage': 1}}\n"
     ]
    }
   ],
   "source": [
    "# Replace 'YOUR_API_KEY' with your actual API key\n",
    "api_key = os.getenv('YT_API_KEY')\n",
    "youtube = build('youtube', 'v3', developerKey=api_key)\n",
    "\n",
    "# Replace 'VIDEO_ID' with the actual video ID\n",
    "video_id = 'S_7lIORKPQM'\n",
    "request = youtube.videos().list(\n",
    "    part='snippet,contentDetails,statistics',\n",
    "    id=video_id\n",
    ")\n",
    "response = request.execute()\n",
    "\n",
    "print(response)"
   ]
  },
  {
   "cell_type": "code",
   "execution_count": 5,
   "id": "f7291d72-0e25-4755-84fe-b43c9f7276fe",
   "metadata": {},
   "outputs": [
    {
     "name": "stdout",
     "output_type": "stream",
     "text": [
      "Title: Blast From The Past - Jerma Through The Ages 2 Stream Recap\n",
      "Duration: PT1H1M25S\n",
      "Channel ID: UCsUablJrqdwCh83e55tBWPQ\n"
     ]
    }
   ],
   "source": [
    "# Extract the desired details\n",
    "video_title = response['items'][0]['snippet']['title']\n",
    "video_length = response['items'][0]['contentDetails']['duration']\n",
    "channel_id = response['items'][0]['snippet']['channelId']\n",
    "\n",
    "# Print the results\n",
    "print(f\"Title: {video_title}\")\n",
    "print(f\"Duration: {video_length}\")\n",
    "print(f\"Channel ID: {channel_id}\")"
   ]
  },
  {
   "cell_type": "code",
   "execution_count": 13,
   "id": "36156437-32a6-4c62-8352-175d7e8072bf",
   "metadata": {},
   "outputs": [
    {
     "name": "stdout",
     "output_type": "stream",
     "text": [
      "parsed_duration=3685\n"
     ]
    }
   ],
   "source": [
    "import re\n",
    "\n",
    "def parse_iso8601_duration(duration):\n",
    "    # Regex to extract hours, minutes, and seconds\n",
    "    pattern = re.compile(r'PT(?:(\\d+)H)?(?:(\\d+)M)?(?:(\\d+)S)?')\n",
    "    match = pattern.match(duration)\n",
    "\n",
    "    hours = int(match.group(1)) if match.group(1) else 0\n",
    "    minutes = int(match.group(2)) if match.group(2) else 0\n",
    "    seconds = int(match.group(3)) if match.group(3) else 0\n",
    "\n",
    "    # Total duration in seconds\n",
    "    total_seconds = hours * 3600 + minutes * 60 + seconds\n",
    "\n",
    "    return total_seconds\n",
    "parsed_duration = parse_iso8601_duration(video_length)\n",
    "print(f\"{parsed_duration=}\")"
   ]
  },
  {
   "cell_type": "code",
   "execution_count": 14,
   "id": "b12dbf51-e201-4c53-aa75-49df2eb340e5",
   "metadata": {},
   "outputs": [],
   "source": [
    "channel_response = youtube.channels().list(\n",
    "    part='snippet',\n",
    "    id=channel_id\n",
    ").execute()\n",
    "channel_name = channel_response['items'][0]['snippet']['title']"
   ]
  },
  {
   "cell_type": "code",
   "execution_count": 16,
   "id": "ab33ce5b-3049-4a4d-9ab2-ed601cf829a8",
   "metadata": {},
   "outputs": [
    {
     "data": {
      "text/plain": [
       "{'kind': 'youtube#channelListResponse',\n",
       " 'etag': 'l301n7EFWA6yxRJ4H6PfDil5s9c',\n",
       " 'pageInfo': {'totalResults': 1, 'resultsPerPage': 5},\n",
       " 'items': [{'kind': 'youtube#channel',\n",
       "   'etag': 'yygQZyzuwea835-7O9XXXz8fnuQ',\n",
       "   'id': 'UCsUablJrqdwCh83e55tBWPQ',\n",
       "   'snippet': {'title': 'Cheltie',\n",
       "    'description': \"On indefinite hiatus, back in 2025-26! :)\\n\\nHello! I'm Cheltie and I edit Jerma's newest vods.\\n\\ncurrent pfp by: https://twitter.com/AstrooFox\\n\\n\",\n",
       "    'customUrl': '@cheltie',\n",
       "    'publishedAt': '2020-11-10T11:40:15.46242Z',\n",
       "    'thumbnails': {'default': {'url': 'https://yt3.ggpht.com/4E5DpXoR9DziL2f6ne37w7CPtrbr4oxgCCtQ9naiab4eY8ISf2rBlbRc1Lf6qR0Iyyw1zysbJIk=s88-c-k-c0x00ffffff-no-rj',\n",
       "      'width': 88,\n",
       "      'height': 88},\n",
       "     'medium': {'url': 'https://yt3.ggpht.com/4E5DpXoR9DziL2f6ne37w7CPtrbr4oxgCCtQ9naiab4eY8ISf2rBlbRc1Lf6qR0Iyyw1zysbJIk=s240-c-k-c0x00ffffff-no-rj',\n",
       "      'width': 240,\n",
       "      'height': 240},\n",
       "     'high': {'url': 'https://yt3.ggpht.com/4E5DpXoR9DziL2f6ne37w7CPtrbr4oxgCCtQ9naiab4eY8ISf2rBlbRc1Lf6qR0Iyyw1zysbJIk=s800-c-k-c0x00ffffff-no-rj',\n",
       "      'width': 800,\n",
       "      'height': 800}},\n",
       "    'localized': {'title': 'Cheltie',\n",
       "     'description': \"On indefinite hiatus, back in 2025-26! :)\\n\\nHello! I'm Cheltie and I edit Jerma's newest vods.\\n\\ncurrent pfp by: https://twitter.com/AstrooFox\\n\\n\"},\n",
       "    'country': 'US'}}]}"
      ]
     },
     "execution_count": 16,
     "metadata": {},
     "output_type": "execute_result"
    }
   ],
   "source": [
    "channel_response"
   ]
  },
  {
   "cell_type": "code",
   "execution_count": null,
   "id": "048d3191-269e-4705-81b9-5759b84a69c5",
   "metadata": {},
   "outputs": [],
   "source": []
  }
 ],
 "metadata": {
  "kernelspec": {
   "display_name": "proj503",
   "language": "python",
   "name": "proj503"
  },
  "language_info": {
   "codemirror_mode": {
    "name": "ipython",
    "version": 3
   },
   "file_extension": ".py",
   "mimetype": "text/x-python",
   "name": "python",
   "nbconvert_exporter": "python",
   "pygments_lexer": "ipython3",
   "version": "3.11.10"
  }
 },
 "nbformat": 4,
 "nbformat_minor": 5
}
