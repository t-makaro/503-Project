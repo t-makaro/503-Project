{
 "cells": [
  {
   "cell_type": "code",
   "execution_count": 2,
   "id": "f9835207-93da-4a66-916b-627a8b02f047",
   "metadata": {
    "ExecuteTime": {
     "end_time": "2024-11-07T19:21:31.913161Z",
     "start_time": "2024-11-07T19:21:31.822455Z"
    }
   },
   "outputs": [],
   "source": [
    "import numpy as np\n",
    "import pandas as pd\n",
    "from IPython.display import display"
   ]
  },
  {
   "cell_type": "code",
   "execution_count": null,
   "id": "519bc71f-0e72-482d-8066-ee0a55641792",
   "metadata": {
    "ExecuteTime": {
     "end_time": "2024-11-07T19:28:01.911194Z",
     "start_time": "2024-11-07T19:26:31.225993Z"
    }
   },
   "outputs": [],
   "source": [
    "mirror_url = 'https://sb.minibomba.pro/mirror/'\n",
    "mirror_files = ['categoryVotes.csv',\n",
    "                'lockCategories.csv',\n",
    "                'ratings.csv',\n",
    "                # 'sponsorTimes.csv',\n",
    "                'thumbnailTimestamps.csv',\n",
    "                'thumbnailVotes.csv',\n",
    "                'thumbnails.csv',\n",
    "                'titleVotes.csv',\n",
    "                'titles.csv',\n",
    "                'unlistedVideos.csv',\n",
    "                'userNames.csv',\n",
    "                'videoInfo.csv',\n",
    "                'vipUsers.csv',\n",
    "                'warnings.csv'\n",
    "               ]\n",
    "data_folder = '/Users/joyjitchoudhury/CSC503 Proj/data/'\n",
    "chunksize = 10000\n",
    "\n",
    "download = True # Caution sponsorTimes.csv is 4GB\n",
    "if download:\n",
    "    for name in mirror_files:\n",
    "        dfs = []  # To hold the dataframes for each chunk\n",
    "        for chunk in pd.read_csv(mirror_url+name, chunksize=chunksize):\n",
    "            dfs.append(chunk)\n",
    "        df = pd.concat(dfs, ignore_index=True)\n",
    "        # df = pd.read_csv(mirror_url+name)\n",
    "        df.to_csv(data_folder+name)"
   ]
  },
  {
   "cell_type": "code",
   "execution_count": null,
   "id": "ad6a3b8c-771c-4efd-a8c8-d66dfbfdb866",
   "metadata": {
    "ExecuteTime": {
     "end_time": "2024-11-07T00:42:20.261080Z",
     "start_time": "2024-11-07T00:42:19.990545Z"
    }
   },
   "outputs": [],
   "source": [
    "#name = mirror_files[0]\n",
    "mirror_files = ['categoryVotes.csv',\n",
    "                'lockCategories.csv',\n",
    "                'ratings.csv',\n",
    "                'sponsorTimes.csv',\n",
    "                'thumbnailTimestamps.csv',\n",
    "                'thumbnailVotes.csv',\n",
    "                'thumbnails.csv',\n",
    "                'titleVotes.csv',\n",
    "                'titles.csv',\n",
    "                'unlistedVideos.csv',\n",
    "                'userNames.csv',\n",
    "                'videoInfo.csv',\n",
    "                'vipUsers.csv',\n",
    "                'warnings.csv'\n",
    "               ]\n",
    "unwanted_cols = ['Unmaed: 0 ', 'id', 'hashedVideoID']\n",
    "rows_to_read = 1000 \n",
    "for name in mirror_files:\n",
    "    print(name)\n",
    "    df = pd.read_csv(data_folder+name, usecols=lambda col: col not in unwanted_cols,  nrows=rows_to_read)\n",
    "    print(df.head())"
   ]
  },
  {
   "cell_type": "code",
   "execution_count": null,
   "id": "10182dc4-efd0-48c3-a4ca-4841c4f8516b",
   "metadata": {
    "ExecuteTime": {
     "end_time": "2024-11-07T00:39:08.221754Z",
     "start_time": "2024-11-07T00:39:08.139148Z"
    }
   },
   "outputs": [],
   "source": [
    "name  = \"sponsorTimes.csv\"   \n",
    "df = pd.read_csv(data_folder+name, usecols=lambda col: col not in unwanted_cols,  nrows=rows_to_read)\n",
    "display(df.head())"
   ]
  },
  {
   "cell_type": "code",
   "execution_count": null,
   "id": "e3aebe6a15c9d8ee",
   "metadata": {
    "ExecuteTime": {
     "end_time": "2024-11-07T00:40:18.826012Z",
     "start_time": "2024-11-07T00:40:18.797922Z"
    }
   },
   "outputs": [],
   "source": [
    "print(df['service'].unique().tolist())"
   ]
  },
  {
   "cell_type": "code",
   "execution_count": null,
   "id": "2723074927e5fc0d",
   "metadata": {
    "ExecuteTime": {
     "end_time": "2024-11-07T00:40:28.597018Z",
     "start_time": "2024-11-07T00:40:28.577879Z"
    }
   },
   "outputs": [],
   "source": [
    "print(df['actionType'].unique().tolist())"
   ]
  },
  {
   "cell_type": "code",
   "execution_count": 39,
   "id": "cca4b01c3bc592fa",
   "metadata": {},
   "outputs": [
    {
     "name": "stderr",
     "output_type": "stream",
     "text": [
      "C:\\Users\\joyji\\AppData\\Local\\Temp\\ipykernel_13216\\1692492704.py:5: DtypeWarning: Columns (18) have mixed types. Specify dtype option on import or set low_memory=False.\n",
      "  df = pd.read_csv(name, usecols=lambda col: col not in unwanted_cols,  nrows=rows_to_read)\n"
     ]
    },
    {
     "data": {
      "text/html": [
       "<div>\n",
       "<style scoped>\n",
       "    .dataframe tbody tr th:only-of-type {\n",
       "        vertical-align: middle;\n",
       "    }\n",
       "\n",
       "    .dataframe tbody tr th {\n",
       "        vertical-align: top;\n",
       "    }\n",
       "\n",
       "    .dataframe thead th {\n",
       "        text-align: right;\n",
       "    }\n",
       "</style>\n",
       "<table border=\"1\" class=\"dataframe\">\n",
       "  <thead>\n",
       "    <tr style=\"text-align: right;\">\n",
       "      <th></th>\n",
       "      <th>videoID</th>\n",
       "      <th>startTime</th>\n",
       "      <th>endTime</th>\n",
       "      <th>votes</th>\n",
       "      <th>locked</th>\n",
       "      <th>incorrectVotes</th>\n",
       "      <th>UUID</th>\n",
       "      <th>userID</th>\n",
       "      <th>timeSubmitted</th>\n",
       "      <th>views</th>\n",
       "      <th>category</th>\n",
       "      <th>actionType</th>\n",
       "      <th>service</th>\n",
       "      <th>videoDuration</th>\n",
       "      <th>hidden</th>\n",
       "      <th>reputation</th>\n",
       "      <th>shadowHidden</th>\n",
       "      <th>userAgent</th>\n",
       "      <th>description</th>\n",
       "    </tr>\n",
       "  </thead>\n",
       "  <tbody>\n",
       "    <tr>\n",
       "      <th>0</th>\n",
       "      <td>ulCdoCfw-bY</td>\n",
       "      <td>487.50198</td>\n",
       "      <td>547.48750</td>\n",
       "      <td>-2</td>\n",
       "      <td>0</td>\n",
       "      <td>1</td>\n",
       "      <td>16090680-a367-11e9-b256-cb886cabe693</td>\n",
       "      <td>38e7c2af-09f4-4492-bf49-75e443962ccd</td>\n",
       "      <td>1564088876715</td>\n",
       "      <td>26984</td>\n",
       "      <td>sponsor</td>\n",
       "      <td>skip</td>\n",
       "      <td>YouTube</td>\n",
       "      <td>0.0</td>\n",
       "      <td>0</td>\n",
       "      <td>0.0</td>\n",
       "      <td>0</td>\n",
       "      <td>NaN</td>\n",
       "      <td>NaN</td>\n",
       "    </tr>\n",
       "    <tr>\n",
       "      <th>1</th>\n",
       "      <td>UjtOGPJ0URM</td>\n",
       "      <td>497.14310</td>\n",
       "      <td>569.15330</td>\n",
       "      <td>-2</td>\n",
       "      <td>0</td>\n",
       "      <td>1</td>\n",
       "      <td>b3237a80-a2c3-11e9-b210-99c885575bb9</td>\n",
       "      <td>38e7c2af-09f4-4492-bf49-75e443962ccd</td>\n",
       "      <td>1564088876715</td>\n",
       "      <td>24217</td>\n",
       "      <td>sponsor</td>\n",
       "      <td>skip</td>\n",
       "      <td>YouTube</td>\n",
       "      <td>0.0</td>\n",
       "      <td>0</td>\n",
       "      <td>0.0</td>\n",
       "      <td>0</td>\n",
       "      <td>NaN</td>\n",
       "      <td>NaN</td>\n",
       "    </tr>\n",
       "    <tr>\n",
       "      <th>2</th>\n",
       "      <td>uqKGREZs6-w</td>\n",
       "      <td>475.52167</td>\n",
       "      <td>532.20874</td>\n",
       "      <td>302</td>\n",
       "      <td>0</td>\n",
       "      <td>1</td>\n",
       "      <td>622f9270-a2a1-11e9-b210-99c885575bb9</td>\n",
       "      <td>38e7c2af-09f4-4492-bf49-75e443962ccd</td>\n",
       "      <td>1564088876715</td>\n",
       "      <td>18060</td>\n",
       "      <td>sponsor</td>\n",
       "      <td>skip</td>\n",
       "      <td>YouTube</td>\n",
       "      <td>0.0</td>\n",
       "      <td>1</td>\n",
       "      <td>0.0</td>\n",
       "      <td>0</td>\n",
       "      <td>NaN</td>\n",
       "      <td>NaN</td>\n",
       "    </tr>\n",
       "    <tr>\n",
       "      <th>3</th>\n",
       "      <td>9P6rdqiybaw</td>\n",
       "      <td>488.52150</td>\n",
       "      <td>542.11035</td>\n",
       "      <td>-2</td>\n",
       "      <td>0</td>\n",
       "      <td>1</td>\n",
       "      <td>81024780-a367-11e9-b256-cb886cabe693</td>\n",
       "      <td>38e7c2af-09f4-4492-bf49-75e443962ccd</td>\n",
       "      <td>1564088876715</td>\n",
       "      <td>25661</td>\n",
       "      <td>sponsor</td>\n",
       "      <td>skip</td>\n",
       "      <td>YouTube</td>\n",
       "      <td>552.0</td>\n",
       "      <td>0</td>\n",
       "      <td>0.0</td>\n",
       "      <td>0</td>\n",
       "      <td>NaN</td>\n",
       "      <td>NaN</td>\n",
       "    </tr>\n",
       "    <tr>\n",
       "      <th>4</th>\n",
       "      <td>FfgT6zx4k3Q</td>\n",
       "      <td>446.51013</td>\n",
       "      <td>513.39233</td>\n",
       "      <td>225</td>\n",
       "      <td>0</td>\n",
       "      <td>1</td>\n",
       "      <td>96150fa0-a28a-11e9-b210-99c885575bb9</td>\n",
       "      <td>38e7c2af-09f4-4492-bf49-75e443962ccd</td>\n",
       "      <td>1564088876715</td>\n",
       "      <td>3222</td>\n",
       "      <td>sponsor</td>\n",
       "      <td>skip</td>\n",
       "      <td>YouTube</td>\n",
       "      <td>0.0</td>\n",
       "      <td>1</td>\n",
       "      <td>0.0</td>\n",
       "      <td>0</td>\n",
       "      <td>NaN</td>\n",
       "      <td>NaN</td>\n",
       "    </tr>\n",
       "  </tbody>\n",
       "</table>\n",
       "</div>"
      ],
      "text/plain": [
       "       videoID  startTime    endTime  votes  locked  incorrectVotes  \\\n",
       "0  ulCdoCfw-bY  487.50198  547.48750     -2       0               1   \n",
       "1  UjtOGPJ0URM  497.14310  569.15330     -2       0               1   \n",
       "2  uqKGREZs6-w  475.52167  532.20874    302       0               1   \n",
       "3  9P6rdqiybaw  488.52150  542.11035     -2       0               1   \n",
       "4  FfgT6zx4k3Q  446.51013  513.39233    225       0               1   \n",
       "\n",
       "                                   UUID                                userID  \\\n",
       "0  16090680-a367-11e9-b256-cb886cabe693  38e7c2af-09f4-4492-bf49-75e443962ccd   \n",
       "1  b3237a80-a2c3-11e9-b210-99c885575bb9  38e7c2af-09f4-4492-bf49-75e443962ccd   \n",
       "2  622f9270-a2a1-11e9-b210-99c885575bb9  38e7c2af-09f4-4492-bf49-75e443962ccd   \n",
       "3  81024780-a367-11e9-b256-cb886cabe693  38e7c2af-09f4-4492-bf49-75e443962ccd   \n",
       "4  96150fa0-a28a-11e9-b210-99c885575bb9  38e7c2af-09f4-4492-bf49-75e443962ccd   \n",
       "\n",
       "   timeSubmitted  views category actionType  service  videoDuration  hidden  \\\n",
       "0  1564088876715  26984  sponsor       skip  YouTube            0.0       0   \n",
       "1  1564088876715  24217  sponsor       skip  YouTube            0.0       0   \n",
       "2  1564088876715  18060  sponsor       skip  YouTube            0.0       1   \n",
       "3  1564088876715  25661  sponsor       skip  YouTube          552.0       0   \n",
       "4  1564088876715   3222  sponsor       skip  YouTube            0.0       1   \n",
       "\n",
       "   reputation  shadowHidden userAgent  description  \n",
       "0         0.0             0       NaN          NaN  \n",
       "1         0.0             0       NaN          NaN  \n",
       "2         0.0             0       NaN          NaN  \n",
       "3         0.0             0       NaN          NaN  \n",
       "4         0.0             0       NaN          NaN  "
      ]
     },
     "metadata": {},
     "output_type": "display_data"
    }
   ],
   "source": [
    "# name  = \"sponsorTimes.csv\"\n",
    "unwanted_cols = ['Unmaed: 0 ', 'id', 'hashedVideoID']\n",
    "rows_to_read = 3000000\n",
    "name = 'D:/UVic/CSC503Proj/data/sponsorTimes.csv'\n",
    "df = pd.read_csv(name, usecols=lambda col: col not in unwanted_cols,  nrows=rows_to_read)\n",
    "display(df.head())\n"
   ]
  },
  {
   "cell_type": "code",
   "execution_count": 42,
   "id": "a26e1c39-4252-4c50-bfab-a154b4e088c5",
   "metadata": {},
   "outputs": [
    {
     "data": {
      "text/plain": [
       "28809"
      ]
     },
     "execution_count": 42,
     "metadata": {},
     "output_type": "execute_result"
    }
   ],
   "source": [
    "(df['hidden'] == 1).sum()\n",
    "# df['hidden'].hist()"
   ]
  },
  {
   "cell_type": "code",
   "execution_count": null,
   "id": "788c5a46-610c-4762-b955-a2c3e6493b53",
   "metadata": {},
   "outputs": [],
   "source": []
  }
 ],
 "metadata": {
  "kernelspec": {
   "display_name": "Python 3 (ipykernel)",
   "language": "python",
   "name": "python3"
  },
  "language_info": {
   "codemirror_mode": {
    "name": "ipython",
    "version": 3
   },
   "file_extension": ".py",
   "mimetype": "text/x-python",
   "name": "python",
   "nbconvert_exporter": "python",
   "pygments_lexer": "ipython3",
   "version": "3.9.19"
  }
 },
 "nbformat": 4,
 "nbformat_minor": 5
}
